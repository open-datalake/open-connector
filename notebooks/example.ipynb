{
 "cells": [
  {
   "cell_type": "code",
   "execution_count": 1,
   "metadata": {
    "collapsed": true,
    "pycharm": {
     "name": "#%%\n"
    }
   },
   "outputs": [],
   "source": [
    "from open_connector import OpenConnector\n",
    "from open_connector.protocol.pipeline import OpenMessage, Metadata\n",
    "# from source_s3 import OpenS3Destination"
   ]
  },
  {
   "cell_type": "code",
   "execution_count": 2,
   "outputs": [],
   "source": [
    "from typing import Iterable\n",
    "import boto3\n",
    "\n",
    "\n",
    "class OpenS3Destination(OpenConnector):\n",
    "\n",
    "    def __init__(self, config_file: str = 's3_destination.config.yml'):\n",
    "        super().__init__(config_file)\n",
    "\n",
    "        # Create a S3 client\n",
    "        self.s3 = boto3.client('s3')\n",
    "\n",
    "    def write(self, messages: Iterable[OpenMessage]):\n",
    "\n",
    "        # Get config values\n",
    "        bucket_name: str = self.config['bucket_name']\n",
    "        key_prefix: str = self.config['key_prefix']\n",
    "        dataset_name: str = self.config['dataset_name']\n",
    "        table_name: str = self.config['table_name']\n",
    "        output_format: str = self.config['output_format']\n",
    "\n",
    "        print(bucket_name)"
   ],
   "metadata": {
    "collapsed": false,
    "pycharm": {
     "name": "#%%\n"
    }
   }
  },
  {
   "cell_type": "code",
   "execution_count": 3,
   "outputs": [
    {
     "name": "stdout",
     "output_type": "stream",
     "text": [
      "bucket_name\n"
     ]
    }
   ],
   "source": [
    "OpenS3Destination().write('')"
   ],
   "metadata": {
    "collapsed": false,
    "pycharm": {
     "name": "#%%\n"
    }
   }
  },
  {
   "cell_type": "code",
   "execution_count": 64,
   "outputs": [
    {
     "name": "stdout",
     "output_type": "stream",
     "text": [
      "0 Hello World ! Metadata(ingestion_time='2022_04_09')\n"
     ]
    }
   ],
   "source": [],
   "metadata": {
    "collapsed": false,
    "pycharm": {
     "name": "#%%\n"
    }
   }
  },
  {
   "cell_type": "code",
   "execution_count": 70,
   "outputs": [
    {
     "name": "stdout",
     "output_type": "stream",
     "text": [
      "Hello World ! Metadata(ingestion_time='2022_04_09')\n"
     ]
    }
   ],
   "source": [],
   "metadata": {
    "collapsed": false,
    "pycharm": {
     "name": "#%%\n"
    }
   }
  },
  {
   "cell_type": "code",
   "execution_count": 51,
   "outputs": [
    {
     "data": {
      "text/plain": "Metadata(ingestion_time='2022_04_09')"
     },
     "execution_count": 51,
     "metadata": {},
     "output_type": "execute_result"
    }
   ],
   "source": [
    "data"
   ],
   "metadata": {
    "collapsed": false,
    "pycharm": {
     "name": "#%%\n"
    }
   }
  }
 ],
 "metadata": {
  "kernelspec": {
   "display_name": "Python 3",
   "language": "python",
   "name": "python3"
  },
  "language_info": {
   "codemirror_mode": {
    "name": "ipython",
    "version": 2
   },
   "file_extension": ".py",
   "mimetype": "text/x-python",
   "name": "python",
   "nbconvert_exporter": "python",
   "pygments_lexer": "ipython2",
   "version": "2.7.6"
  }
 },
 "nbformat": 4,
 "nbformat_minor": 0
}