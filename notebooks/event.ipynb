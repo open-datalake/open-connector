{
 "cells": [
  {
   "cell_type": "code",
   "execution_count": 27,
   "outputs": [],
   "source": [
    "import pprint\n",
    "import json\n",
    "pp = pprint.PrettyPrinter(indent=4)"
   ],
   "metadata": {
    "collapsed": false,
    "pycharm": {
     "name": "#%%\n"
    }
   }
  },
  {
   "cell_type": "code",
   "execution_count": 28,
   "metadata": {
    "collapsed": true
   },
   "outputs": [],
   "source": [
    "event = {'Records': [{'EventSource': 'aws:sns', 'EventVersion': '1.0', 'EventSubscriptionArn': 'arn:aws:sns:eu-west-1:947422419817:opendatalake-raw-emails-linkedinjobs:bef5a6af-1e84-4e80-80c5-5812551668b5', 'Sns': {'Type': 'Notification', 'MessageId': '50a68d4f-16f9-5094-9460-d79bad8dc929', 'TopicArn': 'arn:aws:sns:eu-west-1:947422419817:opendatalake-raw-emails-linkedinjobs', 'Subject': 'Amazon SES Email Receipt Notification', 'Message': '{\"notificationType\":\"Received\",\"mail\":{\"timestamp\":\"2022-04-16T12:40:18.948Z\",\"source\":\"joffreybvn@gmail.com\",\"messageId\":\"fotiguvsvg5ftvq8nuomm3hh9el1dao3fguqr4o1\",\"destination\":[\"linkedin-jobs-9s53lwpvs88lw2gv@datalake.joffreybvn.be\"],\"headersTruncated\":false,\"headers\":[{\"name\":\"Return-Path\",\"value\":\"<joffreybvn@gmail.com>\"},{\"name\":\"Received\",\"value\":\"from mail-yw1-f172.google.com (mail-yw1-f172.google.com [209.85.128.172]) by inbound-smtp.eu-west-1.amazonaws.com with SMTP id fotiguvsvg5ftvq8nuomm3hh9el1dao3fguqr4o1 for linkedin-jobs-9s53lwpvs88lw2gv@datalake.joffreybvn.be; Sat, 16 Apr 2022 12:40:18 +0000 (UTC)\"},{\"name\":\"X-SES-Spam-Verdict\",\"value\":\"PASS\"},{\"name\":\"X-SES-Virus-Verdict\",\"value\":\"PASS\"},{\"name\":\"Received-SPF\",\"value\":\"pass (spfCheck: domain of _spf.google.com designates 209.85.128.172 as permitted sender) client-ip=209.85.128.172; envelope-from=joffreybvn@gmail.com; helo=mail-yw1-f172.google.com;\"},{\"name\":\"Authentication-Results\",\"value\":\"amazonses.com; spf=pass (spfCheck: domain of _spf.google.com designates 209.85.128.172 as permitted sender) client-ip=209.85.128.172; envelope-from=joffreybvn@gmail.com; helo=mail-yw1-f172.google.com; dkim=pass header.i=@gmail.com; dmarc=pass header.from=gmail.com;\"},{\"name\":\"X-SES-RECEIPT\",\"value\":\"AEFBQUFBQUFBQUFGeVNla0M4djA2UXdvT1k3d0k3UEJlc2NtSzVwNGFlVS9NS1FIY2FzSm5aelpwd2pIKzNZWVd0eXRqZGZXV2pOYmhLUGptbGgydWJSS2h3bnhaSUJzbnQyanFvdUtCTnRCZTFOOXRKdFBqL0Fab1ArTDV0RHBYNk5lcjJxSnRZYnAwUFdHWEpCUFVhUFhtNnQySEdIcjE1dGVPaXdaUHZ3UTFDb0J2M0c5WTNna3RtWm43THloVFk0UERkUm1UWmZtQ1AvR0xNY0d5M2VHdGlWK2doU3B3VXFxdDNhUkk2T3crWnRqbVM4MzdoTnZRMUNYTG5GMmpZcWZsMG1ZWHlUODRGeWg2N2JkbjUwZnpRcm51YmJMYU16L3VpbjZVUlN1RGZWb1NiUms5dVE9PQ==\"},{\"name\":\"X-SES-DKIM-SIGNATURE\",\"value\":\"a=rsa-sha256; q=dns/txt; b=LhmmQwjmGSqoKOnol4vI7XI4mCfGzCMrA7x0OLcTirVI/YWHKu5b6LJL8qwceTPq1a/6ON2AqQM8rJmVJjOiu21WJI5S9Pmf+BmuaSFkFg1zE3SyBt4VYqgNL6gmcjkw67EEjo+TOHHEIoLVHbG1MPoCYkr9B4BTlhoEj0a1ba4=; c=relaxed/simple; s=ihchhvubuqgjsxyuhssfvqohv7z3u4hn; d=amazonses.com; t=1650112819; v=1; bh=QsKPne5koiliwmY70gMf3Oau0vxeLJAQyVvLFpPAsWs=; h=From:To:Cc:Bcc:Subject:Date:Message-ID:MIME-Version:Content-Type:X-SES-RECEIPT;\"},{\"name\":\"Received\",\"value\":\"by mail-yw1-f172.google.com with SMTP id 00721157ae682-2eafabbc80aso103709277b3.11 for <linkedin-jobs-9s53lwpvs88lw2gv@datalake.joffreybvn.be>; Sat, 16 Apr 2022 05:40:18 -0700 (PDT)\"},{\"name\":\"DKIM-Signature\",\"value\":\"v=1; a=rsa-sha256; c=relaxed/relaxed; d=gmail.com; s=20210112; h=mime-version:references:in-reply-to:from:date:message-id:subject:to; bh=Q+pEHCmwA/ngmHpT6DIsUi7z51e7+7Rzt8enOCVkTBA=; b=bO0H4NZV1AFPXw1cjGy3V1M8YDg+abZLms0FL95bxkFY7gW2EAZeVg6UaG5oJmQOAw9h2pjeXy/1QLwcAdLcFObvJMiCsl78OULN0cuDafq4zw+Z0icNvLGHnGooIml11jRcIShyFqmX9qBr8HPFBU//wL+F0hxvKnOXxF8SwplOwtUpGjjvKIup10EcHf6cp5mE/Su8ZfpKyqTVGndkjzpP5hxDtd0gWT5m/FjrEt/j6E130SZYEEtyk+HRLsLlSgkB0689YQBQxUFV7kBMHZ/xmYGugZNAHowtnQpGX93LrTBcBfPWC+9iC5glIai4Mv5w6CvRHNe4M7VGp64bUw==\"},{\"name\":\"X-Google-DKIM-Signature\",\"value\":\"v=1; a=rsa-sha256; c=relaxed/relaxed; d=1e100.net; s=20210112; h=x-gm-message-state:mime-version:references:in-reply-to:from:date :message-id:subject:to; bh=Q+pEHCmwA/ngmHpT6DIsUi7z51e7+7Rzt8enOCVkTBA=; b=SL5FukNsMgG+bYXso9iinaMIO0KJpwotSH1nXCcmqJx9vRC1foywtmXnBC3TGB1jaJ i3i8IADt5sZHILNvRyZVzSsfqgEyKFPV2gKsXXZMXE3jb3QMnoAYJiaySCLNzylGjBuY 14NRUDSuZ7N3L2KGvibzHYecTNiVKvETZL/yQV1mY0Mg3MEzGdKuNkjugKqrVgeCqRda RcE8I1RBSCeYVa/QpjkEQtdM09iIT0V1i9sqL+rm3EiQzRrQEC5fE2AZ/AkVTtyFBZDT 8lpYmQABRtPhagUmpYiU7T3MEqTF4VL4ek+Wz+7D+Uhzn/hAN1ruOxZuGx4VHpGVeG7q vFGA==\"},{\"name\":\"X-Gm-Message-State\",\"value\":\"AOAM531JVbe1/PM9UC6ODkTvjvQxRHiDHO6XJixMhwGLmDTU5v5Mh25b e/WmJIB1BNxB/ND58cXflLvM311bsrr4d8SmxEJyRY/q\"},{\"name\":\"X-Google-Smtp-Source\",\"value\":\"ABdhPJxB5vNHILlak581kaKsOea5nZ1SYQiM8q738S455HLLm/56CJ9c8WdX2CJoDzJgsOMueAP+5WzitH0of3jRVdI=\"},{\"name\":\"X-Received\",\"value\":\"by 2002:a81:1bc3:0:b0:2e3:aa1:f553 with SMTP id b186-20020a811bc3000000b002e30aa1f553mr2751047ywb.491.1650112817426; Sat, 16 Apr 2022 05:40:17 -0700 (PDT)\"},{\"name\":\"MIME-Version\",\"value\":\"1.0\"},{\"name\":\"References\",\"value\":\"<1842987587.2343444.1650099685008@ltx1-app46489.prod.linkedin.com>\"},{\"name\":\"In-Reply-To\",\"value\":\"<1842987587.2343444.1650099685008@ltx1-app46489.prod.linkedin.com>\"},{\"name\":\"From\",\"value\":\"Joffrey Bienvenu <joffreybvn@gmail.com>\"},{\"name\":\"Date\",\"value\":\"Sat, 16 Apr 2022 14:40:06 +0200\"},{\"name\":\"Message-ID\",\"value\":\"<CABY-6CcsN3Q+a6R+xSPp9PU6wCdJEVPyqMNmznfRsq2pBJCNyQ@mail.gmail.com>\"},{\"name\":\"Subject\",\"value\":\"Fwd: 1 nouvelle offre d’emploi pour “Machine Learning Engineer”\"},{\"name\":\"To\",\"value\":\"linkedin-jobs-9s53lwpvs88lw2gv@datalake.joffreybvn.be\"},{\"name\":\"Content-Type\",\"value\":\"multipart/alternative; boundary=\\\\\"00000000000052730905dcc4d439\\\\\"\"}],\"commonHeaders\":{\"returnPath\":\"joffreybvn@gmail.com\",\"from\":[\"Joffrey Bienvenu <joffreybvn@gmail.com>\"],\"date\":\"Sat, 16 Apr 2022 14:40:06 +0200\",\"to\":[\"linkedin-jobs-9s53lwpvs88lw2gv@datalake.joffreybvn.be\"],\"messageId\":\"<CABY-6CcsN3Q+a6R+xSPp9PU6wCdJEVPyqMNmznfRsq2pBJCNyQ@mail.gmail.com>\",\"subject\":\"Fwd: 1 nouvelle offre d’emploi pour “Machine Learning Engineer”\"}},\"receipt\":{\"timestamp\":\"2022-04-16T12:40:18.948Z\",\"processingTimeMillis\":1231,\"recipients\":[\"linkedin-jobs-9s53lwpvs88lw2gv@datalake.joffreybvn.be\"],\"spamVerdict\":{\"status\":\"PASS\"},\"virusVerdict\":{\"status\":\"PASS\"},\"spfVerdict\":{\"status\":\"PASS\"},\"dkimVerdict\":{\"status\":\"PASS\"},\"dmarcVerdict\":{\"status\":\"PASS\"},\"action\":{\"type\":\"S3\",\"topicArn\":\"arn:aws:sns:eu-west-1:947422419817:opendatalake-raw-emails-linkedinjobs\",\"bucketName\":\"opendatalake-raw\",\"objectKeyPrefix\":\"emails/linkedin_jobs\",\"objectKey\":\"emails/linkedin_jobs/fotiguvsvg5ftvq8nuomm3hh9el1dao3fguqr4o1\"}}}', 'Timestamp': '2022-04-16T12:40:20.201Z', 'SignatureVersion': '1', 'Signature': 'TZhJhXt3JSBSmwk0fKe8+nAziAtr5YybtGR/E+6qCyQSG6TKrZL0v3JsxmNUyyO1xqJzFx7V6MYfvaKT9MAfWR7zFyGQ6Vq6mm5P3rPzooSIclyR+buxDQSmDQ4kVCsmw2F2ain5hqjhLm/5NvSs2/zJWncIvzDNteR26m1/GBMkhp6lHeBpOb2t2UHNoENDeIjz4Ww84J2RXRbqUDZaM7B6P3vRuK+eGERAQ2t86XOobtNjx+MjtgHOznVjd2syzdXH5TCVfsMkEP/lEJmdr3coenCbsWsYmWrd1sC6hMUeLFovW8v+BEFVvFhLyPSQLZkUEYVqF3szDlEdpMmn4Q==', 'SigningCertUrl': 'https://sns.eu-west-1.amazonaws.com/SimpleNotificationService-7ff5318490ec183fbaddaa2a969abfda.pem', 'UnsubscribeUrl': 'https://sns.eu-west-1.amazonaws.com/?Action=Unsubscribe&SubscriptionArn=arn:aws:sns:eu-west-1:947422419817:opendatalake-raw-emails-linkedinjobs:bef5a6af-1e84-4e80-80c5-5812551668b5', 'MessageAttributes': {}}}]}"
   ]
  },
  {
   "cell_type": "code",
   "execution_count": 29,
   "outputs": [],
   "source": [
    "path = event['Records'][0]['Sns']['Message']"
   ],
   "metadata": {
    "collapsed": false,
    "pycharm": {
     "name": "#%%\n"
    }
   }
  },
  {
   "cell_type": "code",
   "execution_count": 25,
   "outputs": [
    {
     "data": {
      "text/plain": "str"
     },
     "execution_count": 25,
     "metadata": {},
     "output_type": "execute_result"
    }
   ],
   "source": [
    "type(path)"
   ],
   "metadata": {
    "collapsed": false,
    "pycharm": {
     "name": "#%%\n"
    }
   }
  },
  {
   "cell_type": "code",
   "execution_count": 34,
   "outputs": [
    {
     "data": {
      "text/plain": "{'notificationType': 'Received',\n 'mail': {'timestamp': '2022-04-16T12:40:18.948Z',\n  'source': 'joffreybvn@gmail.com',\n  'messageId': 'fotiguvsvg5ftvq8nuomm3hh9el1dao3fguqr4o1',\n  'destination': ['linkedin-jobs-9s53lwpvs88lw2gv@datalake.joffreybvn.be'],\n  'headersTruncated': False,\n  'headers': [{'name': 'Return-Path', 'value': '<joffreybvn@gmail.com>'},\n   {'name': 'Received',\n    'value': 'from mail-yw1-f172.google.com (mail-yw1-f172.google.com [209.85.128.172]) by inbound-smtp.eu-west-1.amazonaws.com with SMTP id fotiguvsvg5ftvq8nuomm3hh9el1dao3fguqr4o1 for linkedin-jobs-9s53lwpvs88lw2gv@datalake.joffreybvn.be; Sat, 16 Apr 2022 12:40:18 +0000 (UTC)'},\n   {'name': 'X-SES-Spam-Verdict', 'value': 'PASS'},\n   {'name': 'X-SES-Virus-Verdict', 'value': 'PASS'},\n   {'name': 'Received-SPF',\n    'value': 'pass (spfCheck: domain of _spf.google.com designates 209.85.128.172 as permitted sender) client-ip=209.85.128.172; envelope-from=joffreybvn@gmail.com; helo=mail-yw1-f172.google.com;'},\n   {'name': 'Authentication-Results',\n    'value': 'amazonses.com; spf=pass (spfCheck: domain of _spf.google.com designates 209.85.128.172 as permitted sender) client-ip=209.85.128.172; envelope-from=joffreybvn@gmail.com; helo=mail-yw1-f172.google.com; dkim=pass header.i=@gmail.com; dmarc=pass header.from=gmail.com;'},\n   {'name': 'X-SES-RECEIPT',\n    'value': 'AEFBQUFBQUFBQUFGeVNla0M4djA2UXdvT1k3d0k3UEJlc2NtSzVwNGFlVS9NS1FIY2FzSm5aelpwd2pIKzNZWVd0eXRqZGZXV2pOYmhLUGptbGgydWJSS2h3bnhaSUJzbnQyanFvdUtCTnRCZTFOOXRKdFBqL0Fab1ArTDV0RHBYNk5lcjJxSnRZYnAwUFdHWEpCUFVhUFhtNnQySEdIcjE1dGVPaXdaUHZ3UTFDb0J2M0c5WTNna3RtWm43THloVFk0UERkUm1UWmZtQ1AvR0xNY0d5M2VHdGlWK2doU3B3VXFxdDNhUkk2T3crWnRqbVM4MzdoTnZRMUNYTG5GMmpZcWZsMG1ZWHlUODRGeWg2N2JkbjUwZnpRcm51YmJMYU16L3VpbjZVUlN1RGZWb1NiUms5dVE9PQ=='},\n   {'name': 'X-SES-DKIM-SIGNATURE',\n    'value': 'a=rsa-sha256; q=dns/txt; b=LhmmQwjmGSqoKOnol4vI7XI4mCfGzCMrA7x0OLcTirVI/YWHKu5b6LJL8qwceTPq1a/6ON2AqQM8rJmVJjOiu21WJI5S9Pmf+BmuaSFkFg1zE3SyBt4VYqgNL6gmcjkw67EEjo+TOHHEIoLVHbG1MPoCYkr9B4BTlhoEj0a1ba4=; c=relaxed/simple; s=ihchhvubuqgjsxyuhssfvqohv7z3u4hn; d=amazonses.com; t=1650112819; v=1; bh=QsKPne5koiliwmY70gMf3Oau0vxeLJAQyVvLFpPAsWs=; h=From:To:Cc:Bcc:Subject:Date:Message-ID:MIME-Version:Content-Type:X-SES-RECEIPT;'},\n   {'name': 'Received',\n    'value': 'by mail-yw1-f172.google.com with SMTP id 00721157ae682-2eafabbc80aso103709277b3.11 for <linkedin-jobs-9s53lwpvs88lw2gv@datalake.joffreybvn.be>; Sat, 16 Apr 2022 05:40:18 -0700 (PDT)'},\n   {'name': 'DKIM-Signature',\n    'value': 'v=1; a=rsa-sha256; c=relaxed/relaxed; d=gmail.com; s=20210112; h=mime-version:references:in-reply-to:from:date:message-id:subject:to; bh=Q+pEHCmwA/ngmHpT6DIsUi7z51e7+7Rzt8enOCVkTBA=; b=bO0H4NZV1AFPXw1cjGy3V1M8YDg+abZLms0FL95bxkFY7gW2EAZeVg6UaG5oJmQOAw9h2pjeXy/1QLwcAdLcFObvJMiCsl78OULN0cuDafq4zw+Z0icNvLGHnGooIml11jRcIShyFqmX9qBr8HPFBU//wL+F0hxvKnOXxF8SwplOwtUpGjjvKIup10EcHf6cp5mE/Su8ZfpKyqTVGndkjzpP5hxDtd0gWT5m/FjrEt/j6E130SZYEEtyk+HRLsLlSgkB0689YQBQxUFV7kBMHZ/xmYGugZNAHowtnQpGX93LrTBcBfPWC+9iC5glIai4Mv5w6CvRHNe4M7VGp64bUw=='},\n   {'name': 'X-Google-DKIM-Signature',\n    'value': 'v=1; a=rsa-sha256; c=relaxed/relaxed; d=1e100.net; s=20210112; h=x-gm-message-state:mime-version:references:in-reply-to:from:date :message-id:subject:to; bh=Q+pEHCmwA/ngmHpT6DIsUi7z51e7+7Rzt8enOCVkTBA=; b=SL5FukNsMgG+bYXso9iinaMIO0KJpwotSH1nXCcmqJx9vRC1foywtmXnBC3TGB1jaJ i3i8IADt5sZHILNvRyZVzSsfqgEyKFPV2gKsXXZMXE3jb3QMnoAYJiaySCLNzylGjBuY 14NRUDSuZ7N3L2KGvibzHYecTNiVKvETZL/yQV1mY0Mg3MEzGdKuNkjugKqrVgeCqRda RcE8I1RBSCeYVa/QpjkEQtdM09iIT0V1i9sqL+rm3EiQzRrQEC5fE2AZ/AkVTtyFBZDT 8lpYmQABRtPhagUmpYiU7T3MEqTF4VL4ek+Wz+7D+Uhzn/hAN1ruOxZuGx4VHpGVeG7q vFGA=='},\n   {'name': 'X-Gm-Message-State',\n    'value': 'AOAM531JVbe1/PM9UC6ODkTvjvQxRHiDHO6XJixMhwGLmDTU5v5Mh25b e/WmJIB1BNxB/ND58cXflLvM311bsrr4d8SmxEJyRY/q'},\n   {'name': 'X-Google-Smtp-Source',\n    'value': 'ABdhPJxB5vNHILlak581kaKsOea5nZ1SYQiM8q738S455HLLm/56CJ9c8WdX2CJoDzJgsOMueAP+5WzitH0of3jRVdI='},\n   {'name': 'X-Received',\n    'value': 'by 2002:a81:1bc3:0:b0:2e3:aa1:f553 with SMTP id b186-20020a811bc3000000b002e30aa1f553mr2751047ywb.491.1650112817426; Sat, 16 Apr 2022 05:40:17 -0700 (PDT)'},\n   {'name': 'MIME-Version', 'value': '1.0'},\n   {'name': 'References',\n    'value': '<1842987587.2343444.1650099685008@ltx1-app46489.prod.linkedin.com>'},\n   {'name': 'In-Reply-To',\n    'value': '<1842987587.2343444.1650099685008@ltx1-app46489.prod.linkedin.com>'},\n   {'name': 'From', 'value': 'Joffrey Bienvenu <joffreybvn@gmail.com>'},\n   {'name': 'Date', 'value': 'Sat, 16 Apr 2022 14:40:06 +0200'},\n   {'name': 'Message-ID',\n    'value': '<CABY-6CcsN3Q+a6R+xSPp9PU6wCdJEVPyqMNmznfRsq2pBJCNyQ@mail.gmail.com>'},\n   {'name': 'Subject',\n    'value': 'Fwd: 1 nouvelle offre d’emploi pour “Machine Learning Engineer”'},\n   {'name': 'To',\n    'value': 'linkedin-jobs-9s53lwpvs88lw2gv@datalake.joffreybvn.be'},\n   {'name': 'Content-Type',\n    'value': 'multipart/alternative; boundary=\"00000000000052730905dcc4d439\"'}],\n  'commonHeaders': {'returnPath': 'joffreybvn@gmail.com',\n   'from': ['Joffrey Bienvenu <joffreybvn@gmail.com>'],\n   'date': 'Sat, 16 Apr 2022 14:40:06 +0200',\n   'to': ['linkedin-jobs-9s53lwpvs88lw2gv@datalake.joffreybvn.be'],\n   'messageId': '<CABY-6CcsN3Q+a6R+xSPp9PU6wCdJEVPyqMNmznfRsq2pBJCNyQ@mail.gmail.com>',\n   'subject': 'Fwd: 1 nouvelle offre d’emploi pour “Machine Learning Engineer”'}},\n 'receipt': {'timestamp': '2022-04-16T12:40:18.948Z',\n  'processingTimeMillis': 1231,\n  'recipients': ['linkedin-jobs-9s53lwpvs88lw2gv@datalake.joffreybvn.be'],\n  'spamVerdict': {'status': 'PASS'},\n  'virusVerdict': {'status': 'PASS'},\n  'spfVerdict': {'status': 'PASS'},\n  'dkimVerdict': {'status': 'PASS'},\n  'dmarcVerdict': {'status': 'PASS'},\n  'action': {'type': 'S3',\n   'topicArn': 'arn:aws:sns:eu-west-1:947422419817:opendatalake-raw-emails-linkedinjobs',\n   'bucketName': 'opendatalake-raw',\n   'objectKeyPrefix': 'emails/linkedin_jobs',\n   'objectKey': 'emails/linkedin_jobs/fotiguvsvg5ftvq8nuomm3hh9el1dao3fguqr4o1'}}}"
     },
     "execution_count": 34,
     "metadata": {},
     "output_type": "execute_result"
    }
   ],
   "source": [
    "json.loads(path)"
   ],
   "metadata": {
    "collapsed": false,
    "pycharm": {
     "name": "#%%\n"
    }
   }
  },
  {
   "cell_type": "code",
   "execution_count": 33,
   "outputs": [
    {
     "data": {
      "text/plain": "{'type': 'S3',\n 'topicArn': 'arn:aws:sns:eu-west-1:947422419817:opendatalake-raw-emails-linkedinjobs',\n 'bucketName': 'opendatalake-raw',\n 'objectKeyPrefix': 'emails/linkedin_jobs',\n 'objectKey': 'emails/linkedin_jobs/fotiguvsvg5ftvq8nuomm3hh9el1dao3fguqr4o1'}"
     },
     "execution_count": 33,
     "metadata": {},
     "output_type": "execute_result"
    }
   ],
   "source": [
    "json.loads(path)['receipt']['action']"
   ],
   "metadata": {
    "collapsed": false,
    "pycharm": {
     "name": "#%%\n"
    }
   }
  },
  {
   "cell_type": "code",
   "execution_count": 13,
   "outputs": [
    {
     "name": "stdout",
     "output_type": "stream",
     "text": [
      "('{\"notificationType\":\"Received\",\"mail\":{\"timestamp\":\"2022-04-16T12:40:18.948Z\",\"source\":\"joffreybvn@gmail.com\",\"messageId\":\"fotiguvsvg5ftvq8nuomm3hh9el1dao3fguqr4o1\",\"destination\":[\"linkedin-jobs-9s53lwpvs88lw2gv@datalake.joffreybvn.be\"],\"headersTruncated\":false,\"headers\":[{\"name\":\"Return-Path\",\"value\":\"<joffreybvn@gmail.com>\"},{\"name\":\"Received\",\"value\":\"from '\n",
      " 'mail-yw1-f172.google.com (mail-yw1-f172.google.com [209.85.128.172]) by '\n",
      " 'inbound-smtp.eu-west-1.amazonaws.com with SMTP id '\n",
      " 'fotiguvsvg5ftvq8nuomm3hh9el1dao3fguqr4o1 for '\n",
      " 'linkedin-jobs-9s53lwpvs88lw2gv@datalake.joffreybvn.be; Sat, 16 Apr 2022 '\n",
      " '12:40:18 +0000 '\n",
      " '(UTC)\"},{\"name\":\"X-SES-Spam-Verdict\",\"value\":\"PASS\"},{\"name\":\"X-SES-Virus-Verdict\",\"value\":\"PASS\"},{\"name\":\"Received-SPF\",\"value\":\"pass '\n",
      " '(spfCheck: domain of _spf.google.com designates 209.85.128.172 as permitted '\n",
      " 'sender) client-ip=209.85.128.172; envelope-from=joffreybvn@gmail.com; '\n",
      " 'helo=mail-yw1-f172.google.com;\"},{\"name\":\"Authentication-Results\",\"value\":\"amazonses.com; '\n",
      " 'spf=pass (spfCheck: domain of _spf.google.com designates 209.85.128.172 as '\n",
      " 'permitted sender) client-ip=209.85.128.172; '\n",
      " 'envelope-from=joffreybvn@gmail.com; helo=mail-yw1-f172.google.com; dkim=pass '\n",
      " 'header.i=@gmail.com; dmarc=pass '\n",
      " 'header.from=gmail.com;\"},{\"name\":\"X-SES-RECEIPT\",\"value\":\"AEFBQUFBQUFBQUFGeVNla0M4djA2UXdvT1k3d0k3UEJlc2NtSzVwNGFlVS9NS1FIY2FzSm5aelpwd2pIKzNZWVd0eXRqZGZXV2pOYmhLUGptbGgydWJSS2h3bnhaSUJzbnQyanFvdUtCTnRCZTFOOXRKdFBqL0Fab1ArTDV0RHBYNk5lcjJxSnRZYnAwUFdHWEpCUFVhUFhtNnQySEdIcjE1dGVPaXdaUHZ3UTFDb0J2M0c5WTNna3RtWm43THloVFk0UERkUm1UWmZtQ1AvR0xNY0d5M2VHdGlWK2doU3B3VXFxdDNhUkk2T3crWnRqbVM4MzdoTnZRMUNYTG5GMmpZcWZsMG1ZWHlUODRGeWg2N2JkbjUwZnpRcm51YmJMYU16L3VpbjZVUlN1RGZWb1NiUms5dVE9PQ==\"},{\"name\":\"X-SES-DKIM-SIGNATURE\",\"value\":\"a=rsa-sha256; '\n",
      " 'q=dns/txt; '\n",
      " 'b=LhmmQwjmGSqoKOnol4vI7XI4mCfGzCMrA7x0OLcTirVI/YWHKu5b6LJL8qwceTPq1a/6ON2AqQM8rJmVJjOiu21WJI5S9Pmf+BmuaSFkFg1zE3SyBt4VYqgNL6gmcjkw67EEjo+TOHHEIoLVHbG1MPoCYkr9B4BTlhoEj0a1ba4=; '\n",
      " 'c=relaxed/simple; s=ihchhvubuqgjsxyuhssfvqohv7z3u4hn; d=amazonses.com; '\n",
      " 't=1650112819; v=1; bh=QsKPne5koiliwmY70gMf3Oau0vxeLJAQyVvLFpPAsWs=; '\n",
      " 'h=From:To:Cc:Bcc:Subject:Date:Message-ID:MIME-Version:Content-Type:X-SES-RECEIPT;\"},{\"name\":\"Received\",\"value\":\"by '\n",
      " 'mail-yw1-f172.google.com with SMTP id '\n",
      " '00721157ae682-2eafabbc80aso103709277b3.11 for '\n",
      " '<linkedin-jobs-9s53lwpvs88lw2gv@datalake.joffreybvn.be>; Sat, 16 Apr 2022 '\n",
      " '05:40:18 -0700 (PDT)\"},{\"name\":\"DKIM-Signature\",\"value\":\"v=1; a=rsa-sha256; '\n",
      " 'c=relaxed/relaxed; d=gmail.com; s=20210112; '\n",
      " 'h=mime-version:references:in-reply-to:from:date:message-id:subject:to; '\n",
      " 'bh=Q+pEHCmwA/ngmHpT6DIsUi7z51e7+7Rzt8enOCVkTBA=; '\n",
      " 'b=bO0H4NZV1AFPXw1cjGy3V1M8YDg+abZLms0FL95bxkFY7gW2EAZeVg6UaG5oJmQOAw9h2pjeXy/1QLwcAdLcFObvJMiCsl78OULN0cuDafq4zw+Z0icNvLGHnGooIml11jRcIShyFqmX9qBr8HPFBU//wL+F0hxvKnOXxF8SwplOwtUpGjjvKIup10EcHf6cp5mE/Su8ZfpKyqTVGndkjzpP5hxDtd0gWT5m/FjrEt/j6E130SZYEEtyk+HRLsLlSgkB0689YQBQxUFV7kBMHZ/xmYGugZNAHowtnQpGX93LrTBcBfPWC+9iC5glIai4Mv5w6CvRHNe4M7VGp64bUw==\"},{\"name\":\"X-Google-DKIM-Signature\",\"value\":\"v=1; '\n",
      " 'a=rsa-sha256; c=relaxed/relaxed; d=1e100.net; s=20210112; '\n",
      " 'h=x-gm-message-state:mime-version:references:in-reply-to:from:date '\n",
      " ':message-id:subject:to; bh=Q+pEHCmwA/ngmHpT6DIsUi7z51e7+7Rzt8enOCVkTBA=; '\n",
      " 'b=SL5FukNsMgG+bYXso9iinaMIO0KJpwotSH1nXCcmqJx9vRC1foywtmXnBC3TGB1jaJ '\n",
      " 'i3i8IADt5sZHILNvRyZVzSsfqgEyKFPV2gKsXXZMXE3jb3QMnoAYJiaySCLNzylGjBuY '\n",
      " '14NRUDSuZ7N3L2KGvibzHYecTNiVKvETZL/yQV1mY0Mg3MEzGdKuNkjugKqrVgeCqRda '\n",
      " 'RcE8I1RBSCeYVa/QpjkEQtdM09iIT0V1i9sqL+rm3EiQzRrQEC5fE2AZ/AkVTtyFBZDT '\n",
      " '8lpYmQABRtPhagUmpYiU7T3MEqTF4VL4ek+Wz+7D+Uhzn/hAN1ruOxZuGx4VHpGVeG7q '\n",
      " 'vFGA==\"},{\"name\":\"X-Gm-Message-State\",\"value\":\"AOAM531JVbe1/PM9UC6ODkTvjvQxRHiDHO6XJixMhwGLmDTU5v5Mh25b '\n",
      " 'e/WmJIB1BNxB/ND58cXflLvM311bsrr4d8SmxEJyRY/q\"},{\"name\":\"X-Google-Smtp-Source\",\"value\":\"ABdhPJxB5vNHILlak581kaKsOea5nZ1SYQiM8q738S455HLLm/56CJ9c8WdX2CJoDzJgsOMueAP+5WzitH0of3jRVdI=\"},{\"name\":\"X-Received\",\"value\":\"by '\n",
      " '2002:a81:1bc3:0:b0:2e3:aa1:f553 with SMTP id '\n",
      " 'b186-20020a811bc3000000b002e30aa1f553mr2751047ywb.491.1650112817426; Sat, 16 '\n",
      " 'Apr 2022 05:40:17 -0700 '\n",
      " '(PDT)\"},{\"name\":\"MIME-Version\",\"value\":\"1.0\"},{\"name\":\"References\",\"value\":\"<1842987587.2343444.1650099685008@ltx1-app46489.prod.linkedin.com>\"},{\"name\":\"In-Reply-To\",\"value\":\"<1842987587.2343444.1650099685008@ltx1-app46489.prod.linkedin.com>\"},{\"name\":\"From\",\"value\":\"Joffrey '\n",
      " 'Bienvenu <joffreybvn@gmail.com>\"},{\"name\":\"Date\",\"value\":\"Sat, 16 Apr 2022 '\n",
      " '14:40:06 '\n",
      " '+0200\"},{\"name\":\"Message-ID\",\"value\":\"<CABY-6CcsN3Q+a6R+xSPp9PU6wCdJEVPyqMNmznfRsq2pBJCNyQ@mail.gmail.com>\"},{\"name\":\"Subject\",\"value\":\"Fwd: '\n",
      " '1 nouvelle offre d’emploi pour “Machine Learning '\n",
      " 'Engineer”\"},{\"name\":\"To\",\"value\":\"linkedin-jobs-9s53lwpvs88lw2gv@datalake.joffreybvn.be\"},{\"name\":\"Content-Type\",\"value\":\"multipart/alternative; '\n",
      " 'boundary=\\\\\"00000000000052730905dcc4d439\\\\\"\"}],\"commonHeaders\":{\"returnPath\":\"joffreybvn@gmail.com\",\"from\":[\"Joffrey '\n",
      " 'Bienvenu <joffreybvn@gmail.com>\"],\"date\":\"Sat, 16 Apr 2022 14:40:06 '\n",
      " '+0200\",\"to\":[\"linkedin-jobs-9s53lwpvs88lw2gv@datalake.joffreybvn.be\"],\"messageId\":\"<CABY-6CcsN3Q+a6R+xSPp9PU6wCdJEVPyqMNmznfRsq2pBJCNyQ@mail.gmail.com>\",\"subject\":\"Fwd: '\n",
      " '1 nouvelle offre d’emploi pour “Machine Learning '\n",
      " 'Engineer”\"}},\"receipt\":{\"timestamp\":\"2022-04-16T12:40:18.948Z\",\"processingTimeMillis\":1231,\"recipients\":[\"linkedin-jobs-9s53lwpvs88lw2gv@datalake.joffreybvn.be\"],\"spamVerdict\":{\"status\":\"PASS\"},\"virusVerdict\":{\"status\":\"PASS\"},\"spfVerdict\":{\"status\":\"PASS\"},\"dkimVerdict\":{\"status\":\"PASS\"},\"dmarcVerdict\":{\"status\":\"PASS\"},\"action\":{\"type\":\"S3\",\"topicArn\":\"arn:aws:sns:eu-west-1:947422419817:opendatalake-raw-emails-linkedinjobs\",\"bucketName\":\"opendatalake-raw\",\"objectKeyPrefix\":\"emails/linkedin_jobs\",\"objectKey\":\"emails/linkedin_jobs/fotiguvsvg5ftvq8nuomm3hh9el1dao3fguqr4o1\"}}}')\n"
     ]
    }
   ],
   "source": [
    "pp.pprint(path)"
   ],
   "metadata": {
    "collapsed": false,
    "pycharm": {
     "name": "#%%\n"
    }
   }
  },
  {
   "cell_type": "code",
   "execution_count": 14,
   "outputs": [
    {
     "ename": "AttributeError",
     "evalue": "'str' object has no attribute 'keys'",
     "output_type": "error",
     "traceback": [
      "\u001B[0;31m---------------------------------------------------------------------------\u001B[0m",
      "\u001B[0;31mAttributeError\u001B[0m                            Traceback (most recent call last)",
      "Input \u001B[0;32mIn [14]\u001B[0m, in \u001B[0;36m<cell line: 1>\u001B[0;34m()\u001B[0m\n\u001B[0;32m----> 1\u001B[0m \u001B[43mpath\u001B[49m\u001B[38;5;241;43m.\u001B[39;49m\u001B[43mkeys\u001B[49m()\n",
      "\u001B[0;31mAttributeError\u001B[0m: 'str' object has no attribute 'keys'"
     ]
    }
   ],
   "source": [
    "path.keys()"
   ],
   "metadata": {
    "collapsed": false,
    "pycharm": {
     "name": "#%%\n"
    }
   }
  },
  {
   "cell_type": "code",
   "execution_count": 22,
   "outputs": [
    {
     "name": "stdout",
     "output_type": "stream",
     "text": [
      "{\"notificationType\":\"Received\",\"mail\":{\"timestamp\":\"2022-04-16T12:40:18.948Z\",\"source\":\"joffreybvn@gmail.com\",\"messageId\":\"fotiguvsvg5ftvq8nuomm3hh9el1dao3fguqr4o1\",\"destination\":[\"linkedin-jobs-9s53lwpvs88lw2gv@datalake.joffreybvn.be\"],\"headersTruncated\":false,\"headers\":[{\"name\":\"Return-Path\",\"value\":\"<joffreybvn@gmail.com>\"},{\"name\":\"Received\",\"value\":\"from mail-yw1-f172.google.com (mail-yw1-f172.google.com [209.85.128.172]) by inbound-smtp.eu-west-1.amazonaws.com with SMTP id fotiguvsvg5ftvq8nuomm3hh9el1dao3fguqr4o1 for linkedin-jobs-9s53lwpvs88lw2gv@datalake.joffreybvn.be; Sat, 16 Apr 2022 12:40:18 +0000 (UTC)\"},{\"name\":\"X-SES-Spam-Verdict\",\"value\":\"PASS\"},{\"name\":\"X-SES-Virus-Verdict\",\"value\":\"PASS\"},{\"name\":\"Received-SPF\",\"value\":\"pass (spfCheck: domain of _spf.google.com designates 209.85.128.172 as permitted sender) client-ip=209.85.128.172; envelope-from=joffreybvn@gmail.com; helo=mail-yw1-f172.google.com;\"},{\"name\":\"Authentication-Results\",\"value\":\"amazonses.com; spf=pass (spfCheck: domain of _spf.google.com designates 209.85.128.172 as permitted sender) client-ip=209.85.128.172; envelope-from=joffreybvn@gmail.com; helo=mail-yw1-f172.google.com; dkim=pass header.i=@gmail.com; dmarc=pass header.from=gmail.com;\"},{\"name\":\"X-SES-RECEIPT\",\"value\":\"AEFBQUFBQUFBQUFGeVNla0M4djA2UXdvT1k3d0k3UEJlc2NtSzVwNGFlVS9NS1FIY2FzSm5aelpwd2pIKzNZWVd0eXRqZGZXV2pOYmhLUGptbGgydWJSS2h3bnhaSUJzbnQyanFvdUtCTnRCZTFOOXRKdFBqL0Fab1ArTDV0RHBYNk5lcjJxSnRZYnAwUFdHWEpCUFVhUFhtNnQySEdIcjE1dGVPaXdaUHZ3UTFDb0J2M0c5WTNna3RtWm43THloVFk0UERkUm1UWmZtQ1AvR0xNY0d5M2VHdGlWK2doU3B3VXFxdDNhUkk2T3crWnRqbVM4MzdoTnZRMUNYTG5GMmpZcWZsMG1ZWHlUODRGeWg2N2JkbjUwZnpRcm51YmJMYU16L3VpbjZVUlN1RGZWb1NiUms5dVE9PQ==\"},{\"name\":\"X-SES-DKIM-SIGNATURE\",\"value\":\"a=rsa-sha256; q=dns/txt; b=LhmmQwjmGSqoKOnol4vI7XI4mCfGzCMrA7x0OLcTirVI/YWHKu5b6LJL8qwceTPq1a/6ON2AqQM8rJmVJjOiu21WJI5S9Pmf+BmuaSFkFg1zE3SyBt4VYqgNL6gmcjkw67EEjo+TOHHEIoLVHbG1MPoCYkr9B4BTlhoEj0a1ba4=; c=relaxed/simple; s=ihchhvubuqgjsxyuhssfvqohv7z3u4hn; d=amazonses.com; t=1650112819; v=1; bh=QsKPne5koiliwmY70gMf3Oau0vxeLJAQyVvLFpPAsWs=; h=From:To:Cc:Bcc:Subject:Date:Message-ID:MIME-Version:Content-Type:X-SES-RECEIPT;\"},{\"name\":\"Received\",\"value\":\"by mail-yw1-f172.google.com with SMTP id 00721157ae682-2eafabbc80aso103709277b3.11 for <linkedin-jobs-9s53lwpvs88lw2gv@datalake.joffreybvn.be>; Sat, 16 Apr 2022 05:40:18 -0700 (PDT)\"},{\"name\":\"DKIM-Signature\",\"value\":\"v=1; a=rsa-sha256; c=relaxed/relaxed; d=gmail.com; s=20210112; h=mime-version:references:in-reply-to:from:date:message-id:subject:to; bh=Q+pEHCmwA/ngmHpT6DIsUi7z51e7+7Rzt8enOCVkTBA=; b=bO0H4NZV1AFPXw1cjGy3V1M8YDg+abZLms0FL95bxkFY7gW2EAZeVg6UaG5oJmQOAw9h2pjeXy/1QLwcAdLcFObvJMiCsl78OULN0cuDafq4zw+Z0icNvLGHnGooIml11jRcIShyFqmX9qBr8HPFBU//wL+F0hxvKnOXxF8SwplOwtUpGjjvKIup10EcHf6cp5mE/Su8ZfpKyqTVGndkjzpP5hxDtd0gWT5m/FjrEt/j6E130SZYEEtyk+HRLsLlSgkB0689YQBQxUFV7kBMHZ/xmYGugZNAHowtnQpGX93LrTBcBfPWC+9iC5glIai4Mv5w6CvRHNe4M7VGp64bUw==\"},{\"name\":\"X-Google-DKIM-Signature\",\"value\":\"v=1; a=rsa-sha256; c=relaxed/relaxed; d=1e100.net; s=20210112; h=x-gm-message-state:mime-version:references:in-reply-to:from:date :message-id:subject:to; bh=Q+pEHCmwA/ngmHpT6DIsUi7z51e7+7Rzt8enOCVkTBA=; b=SL5FukNsMgG+bYXso9iinaMIO0KJpwotSH1nXCcmqJx9vRC1foywtmXnBC3TGB1jaJ i3i8IADt5sZHILNvRyZVzSsfqgEyKFPV2gKsXXZMXE3jb3QMnoAYJiaySCLNzylGjBuY 14NRUDSuZ7N3L2KGvibzHYecTNiVKvETZL/yQV1mY0Mg3MEzGdKuNkjugKqrVgeCqRda RcE8I1RBSCeYVa/QpjkEQtdM09iIT0V1i9sqL+rm3EiQzRrQEC5fE2AZ/AkVTtyFBZDT 8lpYmQABRtPhagUmpYiU7T3MEqTF4VL4ek+Wz+7D+Uhzn/hAN1ruOxZuGx4VHpGVeG7q vFGA==\"},{\"name\":\"X-Gm-Message-State\",\"value\":\"AOAM531JVbe1/PM9UC6ODkTvjvQxRHiDHO6XJixMhwGLmDTU5v5Mh25b e/WmJIB1BNxB/ND58cXflLvM311bsrr4d8SmxEJyRY/q\"},{\"name\":\"X-Google-Smtp-Source\",\"value\":\"ABdhPJxB5vNHILlak581kaKsOea5nZ1SYQiM8q738S455HLLm/56CJ9c8WdX2CJoDzJgsOMueAP+5WzitH0of3jRVdI=\"},{\"name\":\"X-Received\",\"value\":\"by 2002:a81:1bc3:0:b0:2e3:aa1:f553 with SMTP id b186-20020a811bc3000000b002e30aa1f553mr2751047ywb.491.1650112817426; Sat, 16 Apr 2022 05:40:17 -0700 (PDT)\"},{\"name\":\"MIME-Version\",\"value\":\"1.0\"},{\"name\":\"References\",\"value\":\"<1842987587.2343444.1650099685008@ltx1-app46489.prod.linkedin.com>\"},{\"name\":\"In-Reply-To\",\"value\":\"<1842987587.2343444.1650099685008@ltx1-app46489.prod.linkedin.com>\"},{\"name\":\"From\",\"value\":\"Joffrey Bienvenu <joffreybvn@gmail.com>\"},{\"name\":\"Date\",\"value\":\"Sat, 16 Apr 2022 14:40:06 +0200\"},{\"name\":\"Message-ID\",\"value\":\"<CABY-6CcsN3Q+a6R+xSPp9PU6wCdJEVPyqMNmznfRsq2pBJCNyQ@mail.gmail.com>\"},{\"name\":\"Subject\",\"value\":\"Fwd: 1 nouvelle offre d’emploi pour “Machine Learning Engineer”\"},{\"name\":\"To\",\"value\":\"linkedin-jobs-9s53lwpvs88lw2gv@datalake.joffreybvn.be\"},{\"name\":\"Content-Type\",\"value\":\"multipart/alternative; boundary=\\\"00000000000052730905dcc4d439\\\"\"}],\"commonHeaders\":{\"returnPath\":\"joffreybvn@gmail.com\",\"from\":[\"Joffrey Bienvenu <joffreybvn@gmail.com>\"],\"date\":\"Sat, 16 Apr 2022 14:40:06 +0200\",\"to\":[\"linkedin-jobs-9s53lwpvs88lw2gv@datalake.joffreybvn.be\"],\"messageId\":\"<CABY-6CcsN3Q+a6R+xSPp9PU6wCdJEVPyqMNmznfRsq2pBJCNyQ@mail.gmail.com>\",\"subject\":\"Fwd: 1 nouvelle offre d’emploi pour “Machine Learning Engineer”\"}},\"receipt\":{\"timestamp\":\"2022-04-16T12:40:18.948Z\",\"processingTimeMillis\":1231,\"recipients\":[\"linkedin-jobs-9s53lwpvs88lw2gv@datalake.joffreybvn.be\"],\"spamVerdict\":{\"status\":\"PASS\"},\"virusVerdict\":{\"status\":\"PASS\"},\"spfVerdict\":{\"status\":\"PASS\"},\"dkimVerdict\":{\"status\":\"PASS\"},\"dmarcVerdict\":{\"status\":\"PASS\"},\"action\":{\"type\":\"S3\",\"topicArn\":\"arn:aws:sns:eu-west-1:947422419817:opendatalake-raw-emails-linkedinjobs\",\"bucketName\":\"opendatalake-raw\",\"objectKeyPrefix\":\"emails/linkedin_jobs\",\"objectKey\":\"emails/linkedin_jobs/fotiguvsvg5ftvq8nuomm3hh9el1dao3fguqr4o1\"}}}\n"
     ]
    }
   ],
   "source": [
    "print(''.join(path.splitlines()))"
   ],
   "metadata": {
    "collapsed": false,
    "pycharm": {
     "name": "#%%\n"
    }
   }
  },
  {
   "cell_type": "code",
   "execution_count": null,
   "outputs": [],
   "source": [],
   "metadata": {
    "collapsed": false,
    "pycharm": {
     "name": "#%%\n"
    }
   }
  }
 ],
 "metadata": {
  "kernelspec": {
   "display_name": "Python 3",
   "language": "python",
   "name": "python3"
  },
  "language_info": {
   "codemirror_mode": {
    "name": "ipython",
    "version": 2
   },
   "file_extension": ".py",
   "mimetype": "text/x-python",
   "name": "python",
   "nbconvert_exporter": "python",
   "pygments_lexer": "ipython2",
   "version": "2.7.6"
  }
 },
 "nbformat": 4,
 "nbformat_minor": 0
}