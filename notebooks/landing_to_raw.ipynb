{
 "cells": [
  {
   "cell_type": "code",
   "execution_count": null,
   "metadata": {
    "collapsed": true,
    "pycharm": {
     "name": "#%%\n"
    }
   },
   "outputs": [],
   "source": []
  },
  {
   "cell_type": "code",
   "execution_count": null,
   "outputs": [],
   "source": [
    "from datetime import datetime\n",
    "from typing import Iterable\n",
    "from open_connector.events.sns import EmailsS3SNSEvent\n",
    "from open_connector.protocol.pipeline import OpenMessage, Metadata\n",
    "from open_connector.pipeline import Pipeline\n",
    "from source_s3 import OpenS3Source\n",
    "from destination_s3 import OpenS3Destination\n",
    "import boto3\n",
    "\n",
    "# Create S3 client\n",
    "s3 = boto3.client('s3')\n",
    "\n",
    "\n",
    "class EmailLandingSource(OpenS3Source):\n",
    "\n",
    "    def __init__(self, event: dict):\n",
    "        super().__init__()\n",
    "        self._event = event\n",
    "\n",
    "    def read(self) -> Iterable[OpenMessage]:\n",
    "        \"\"\"Get the newly added emails. Yield them back as OpenMessages.\"\"\"\n",
    "\n",
    "        # Loop over each new emails in the datalake\n",
    "        for s3_object in EmailsS3SNSEvent(self._event):\n",
    "\n",
    "            # Get file from S3\n",
    "            response: dict = self.s3.get_object(\n",
    "                Bucket=s3_object.bucket,\n",
    "                Key=s3_object.key\n",
    "            )\n",
    "\n",
    "            # Save as bytes\n",
    "            file_object: bytes = response['Body'].read()\n",
    "\n",
    "            # Send to the destination\n",
    "            yield OpenMessage(\n",
    "                data=file_object,\n",
    "                metadata=Metadata(\n",
    "                    ingestion_time=datetime.now().isoformat(),\n",
    "                    output_format='email'\n",
    "                )\n",
    "            )\n",
    "\n",
    "\n",
    "def lambda_handler(event, context):\n",
    "\n",
    "    # Create a source to dest pipeline\n",
    "    pipeline = Pipeline(\n",
    "        source=EmailLandingSource(event),\n",
    "        destination=OpenS3Destination()\n",
    "    )\n",
    "\n",
    "    # Execute the pipeline\n",
    "    pipeline.execute()\n",
    "\n",
    "    # Remove the landed emails\n",
    "    for s3_object in EmailsS3SNSEvent(event):\n",
    "        s3.delete_object(\n",
    "            Bucket=s3_object.bucket,\n",
    "            Key=s3_object.key,\n",
    "        )\n",
    "\n",
    "    return {'statusCode': 200}"
   ],
   "metadata": {
    "collapsed": false,
    "pycharm": {
     "name": "#%%\n"
    }
   }
  }
 ],
 "metadata": {
  "kernelspec": {
   "display_name": "Python 3",
   "language": "python",
   "name": "python3"
  },
  "language_info": {
   "codemirror_mode": {
    "name": "ipython",
    "version": 2
   },
   "file_extension": ".py",
   "mimetype": "text/x-python",
   "name": "python",
   "nbconvert_exporter": "python",
   "pygments_lexer": "ipython2",
   "version": "2.7.6"
  }
 },
 "nbformat": 4,
 "nbformat_minor": 0
}